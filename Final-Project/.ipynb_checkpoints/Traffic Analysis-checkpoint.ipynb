{
 "cells": [
  {
   "cell_type": "markdown",
   "metadata": {},
   "source": [
    "### SSIoT traffic analysis"
   ]
  },
  {
   "cell_type": "code",
   "execution_count": 1,
   "metadata": {},
   "outputs": [],
   "source": [
    "import pandas as pd\n",
    "import sys\n",
    "from os import listdir\n",
    "from os.path import isfile, join\n",
    "import re\n",
    "from matplotlib import pyplot as plt\n",
    "from sklearn.ensemble import ExtraTreesClassifier\n",
    "from sklearn.preprocessing import LabelEncoder\n",
    "from sklearn.cluster import KMeans\n"
   ]
  },
  {
   "cell_type": "code",
   "execution_count": 2,
   "metadata": {},
   "outputs": [],
   "source": [
    "path = \"C:\\\\Users\\\\Raphael\\\\github\\\\Security-Services-for-IoT\\\\Final-Project\\\\pcap\\\\processed\\\\csv-files\\\\\"\n",
    "filenames = [f for f in listdir(path) if isfile(join(path, f))]\n",
    "exclude= [\"MiLampStartUp.csv\", \"MiLampStartUp2.csv\"]"
   ]
  },
  {
   "cell_type": "code",
   "execution_count": 3,
   "metadata": {},
   "outputs": [],
   "source": [
    "# read files and label them accordingly\n",
    "sametest = []\n",
    "checked = set()\n",
    "for file in filenames:\n",
    "    if file in exclude:\n",
    "        continue\n",
    "    same = []\n",
    "    file = file.split(\".\")[0]\n",
    "    for name in filenames:\n",
    "        if file in name and file != name:\n",
    "            if name not in checked:\n",
    "                #name = name.split(\".\")[0]\n",
    "                same.append(name)\n",
    "                checked.add(name)\n",
    "    if len(same) > 0:\n",
    "        sametest.append(same)\n",
    "        \n",
    "df = pd.DataFrame()\n",
    "\n",
    "for files in sametest:\n",
    "    tm = pd.DataFrame()\n",
    "    for i in range(len(files)):\n",
    "        tm = pd.concat([tm, pd.read_csv(path + files[i], header=0)],ignore_index=False)\n",
    "    tm[\"label\"] = str(files[0].split(\".\")[0])\n",
    "    df = pd.concat([df,tm], ignore_index=False)\n",
    "df = df.reset_index(drop=True)"
   ]
  },
  {
   "cell_type": "code",
   "execution_count": 7,
   "metadata": {},
   "outputs": [],
   "source": [
    "# reformat the timestamp\n",
    "for i in range(df.shape[0]):\n",
    "    date = str(df.at[i,\"frame.time\"]).split(\" \")\n",
    "    if len(date) == 7:\n",
    "        df.at[i,\"frame.time\"] = pd.Timestamp(str(df.at[i,\"frame.time\"]).split(\" \")[4])\n",
    "    else:\n",
    "        df.at[i,\"frame.time\"] = pd.Timestamp(str(df.at[i,\"frame.time\"]).split(\" \")[3])\n"
   ]
  },
  {
   "cell_type": "code",
   "execution_count": 53,
   "metadata": {},
   "outputs": [],
   "source": [
    "# plots every feature of the given df, except the excluded ones, m are rows and n are the columns of the plot\n",
    "def plot_stuff(df, exclude,m,n):\n",
    "    c = 0\n",
    "    r = 0\n",
    "    fig, axs = plt.subplots(m,n, sharex=False, figsize=(30,12))\n",
    "    for column in df:\n",
    "        if column in exclude:\n",
    "            continue\n",
    "        axs[r, c%n] = df[column].value_counts().plot(kind=\"barh\", ax=axs[r, c%n], title=column)\n",
    "        #axs[r, c%n].set_title(column)\n",
    "        # set individual bar lables using above list\n",
    "        for i in axs[r, c%n].patches:\n",
    "            # get_width pulls left or right; get_y pushes up or down\n",
    "            axs[r, c%n].text(i.get_width()+.1, i.get_y()+.2, str(round((i.get_width()), 2)), fontsize=10, color='dimgrey')\n",
    "        c += 1 \n",
    "        r += n == c /(r + 1)\n",
    "    plt.show()\n",
    "    plt.clf()"
   ]
  },
  {
   "cell_type": "code",
   "execution_count": 17,
   "metadata": {},
   "outputs": [
    {
     "data": {
      "text/plain": [
       "MiLampDecreaseBrightnessInApp    282\n",
       "MiLampIncreaseTempInApp          229\n",
       "MiLampDecreaseTempInApp          196\n",
       "MiLampIncreaseBrightnessInApp    181\n",
       "MiLampChildMode                   65\n",
       "MiLampPushTurnButtonLeft          52\n",
       "MiLampAdjustTempInApp             41\n",
       "MiLampTurnButtonLeft              41\n",
       "MiLampTurnButtonRight             36\n",
       "MiLampTurnOnFocusModeApp          30\n",
       "MiLampPushTurnButtonRight         27\n",
       "MiLampDoubleTabButton             26\n",
       "MiLampAdjustBrightnessInApp       24\n",
       "MiLampOpenApp                     20\n",
       "MiLampTurnOnPCModeApp             15\n",
       "MiLampTurnOffinApp                15\n",
       "MiLampTurnOninApp                 15\n",
       "MiLampTurnOffFocusModeApp         14\n",
       "MiLampTurnOnReadingModeApp        13\n",
       "MiLampPressOnButtonToTurnOn       13\n",
       "MiLampOpenSettings                11\n",
       "MiLampPressOnButtonToTurnOff      10\n",
       "Name: label, dtype: int64"
      ]
     },
     "execution_count": 17,
     "metadata": {},
     "output_type": "execute_result"
    }
   ],
   "source": [
    "# show available labels:\n",
    "df.label.value_counts()"
   ]
  },
  {
   "cell_type": "code",
   "execution_count": 24,
   "metadata": {},
   "outputs": [],
   "source": [
    "#select specific test/label\n",
    "x1 = df.loc[df.label == \"MiLampDecreaseBrightnessInApp\"]\n",
    "# drop specific rows\n",
    "x1 = x1.drop(x1[x1[\"ip.src\"] == \"192.168.137.1\"].index)"
   ]
  },
  {
   "cell_type": "code",
   "execution_count": 29,
   "metadata": {},
   "outputs": [
    {
     "data": {
      "text/html": [
       "<div>\n",
       "<style scoped>\n",
       "    .dataframe tbody tr th:only-of-type {\n",
       "        vertical-align: middle;\n",
       "    }\n",
       "\n",
       "    .dataframe tbody tr th {\n",
       "        vertical-align: top;\n",
       "    }\n",
       "\n",
       "    .dataframe thead th {\n",
       "        text-align: right;\n",
       "    }\n",
       "</style>\n",
       "<table border=\"1\" class=\"dataframe\">\n",
       "  <thead>\n",
       "    <tr style=\"text-align: right;\">\n",
       "      <th></th>\n",
       "      <th>frame.number</th>\n",
       "      <th>frame.time</th>\n",
       "      <th>eth.src</th>\n",
       "      <th>eth.dst</th>\n",
       "      <th>ip.src</th>\n",
       "      <th>ip.dst</th>\n",
       "      <th>ip.proto</th>\n",
       "      <th>data.data</th>\n",
       "      <th>data.len</th>\n",
       "      <th>udp.srcport</th>\n",
       "      <th>udp.dstport</th>\n",
       "      <th>udp.length</th>\n",
       "      <th>eth.addr.oui_resolved</th>\n",
       "      <th>label</th>\n",
       "    </tr>\n",
       "  </thead>\n",
       "  <tbody>\n",
       "    <tr>\n",
       "      <th>130</th>\n",
       "      <td>1</td>\n",
       "      <td>2020-06-15 10:20:44.582493</td>\n",
       "      <td>46:85:00:12:35:54</td>\n",
       "      <td>40:31:3c:d3:23:d4</td>\n",
       "      <td>18.197.235.166</td>\n",
       "      <td>192.168.137.44</td>\n",
       "      <td>17.0</td>\n",
       "      <td>21310070000000000721ae555ee5ddda1f2eecdc1f23e5...</td>\n",
       "      <td>112.0</td>\n",
       "      <td>8053.0</td>\n",
       "      <td>54321.0</td>\n",
       "      <td>120.0</td>\n",
       "      <td>XIAOMI Electronics,CO.,LTD</td>\n",
       "      <td>MiLampDecreaseBrightnessInApp</td>\n",
       "    </tr>\n",
       "    <tr>\n",
       "      <th>131</th>\n",
       "      <td>2</td>\n",
       "      <td>2020-06-15 10:20:44.752658</td>\n",
       "      <td>40:31:3c:d3:23:d4</td>\n",
       "      <td>46:85:00:12:35:54</td>\n",
       "      <td>192.168.137.44</td>\n",
       "      <td>18.197.235.166</td>\n",
       "      <td>17.0</td>\n",
       "      <td>21310040000000000721ae555ee5dddaab4a50bc703085...</td>\n",
       "      <td>64.0</td>\n",
       "      <td>54321.0</td>\n",
       "      <td>8053.0</td>\n",
       "      <td>72.0</td>\n",
       "      <td>XIAOMI Electronics,CO.,LTD</td>\n",
       "      <td>MiLampDecreaseBrightnessInApp</td>\n",
       "    </tr>\n",
       "    <tr>\n",
       "      <th>132</th>\n",
       "      <td>3</td>\n",
       "      <td>2020-06-15 10:20:44.755314</td>\n",
       "      <td>40:31:3c:d3:23:d4</td>\n",
       "      <td>46:85:00:12:35:54</td>\n",
       "      <td>192.168.137.44</td>\n",
       "      <td>18.197.235.166</td>\n",
       "      <td>17.0</td>\n",
       "      <td>21310060000000000721ae555ee5ddda613b63df8adf36...</td>\n",
       "      <td>96.0</td>\n",
       "      <td>54321.0</td>\n",
       "      <td>8053.0</td>\n",
       "      <td>104.0</td>\n",
       "      <td>XIAOMI Electronics,CO.,LTD</td>\n",
       "      <td>MiLampDecreaseBrightnessInApp</td>\n",
       "    </tr>\n",
       "    <tr>\n",
       "      <th>133</th>\n",
       "      <td>4</td>\n",
       "      <td>2020-06-15 10:20:44.789079</td>\n",
       "      <td>46:85:00:12:35:54</td>\n",
       "      <td>40:31:3c:d3:23:d4</td>\n",
       "      <td>18.197.235.166</td>\n",
       "      <td>192.168.137.44</td>\n",
       "      <td>17.0</td>\n",
       "      <td>21310040000000000721ae555ee5ddda7fd3210a46cecb...</td>\n",
       "      <td>64.0</td>\n",
       "      <td>8053.0</td>\n",
       "      <td>54321.0</td>\n",
       "      <td>72.0</td>\n",
       "      <td>XIAOMI Electronics,CO.,LTD</td>\n",
       "      <td>MiLampDecreaseBrightnessInApp</td>\n",
       "    </tr>\n",
       "    <tr>\n",
       "      <th>134</th>\n",
       "      <td>5</td>\n",
       "      <td>2020-06-15 10:20:45.086023</td>\n",
       "      <td>46:85:00:12:35:54</td>\n",
       "      <td>40:31:3c:d3:23:d4</td>\n",
       "      <td>18.197.235.166</td>\n",
       "      <td>192.168.137.44</td>\n",
       "      <td>17.0</td>\n",
       "      <td>21310070000000000721ae555ee5dddacc9a653bde272a...</td>\n",
       "      <td>112.0</td>\n",
       "      <td>8053.0</td>\n",
       "      <td>54321.0</td>\n",
       "      <td>120.0</td>\n",
       "      <td>XIAOMI Electronics,CO.,LTD</td>\n",
       "      <td>MiLampDecreaseBrightnessInApp</td>\n",
       "    </tr>\n",
       "  </tbody>\n",
       "</table>\n",
       "</div>"
      ],
      "text/plain": [
       "     frame.number                  frame.time            eth.src  \\\n",
       "130             1  2020-06-15 10:20:44.582493  46:85:00:12:35:54   \n",
       "131             2  2020-06-15 10:20:44.752658  40:31:3c:d3:23:d4   \n",
       "132             3  2020-06-15 10:20:44.755314  40:31:3c:d3:23:d4   \n",
       "133             4  2020-06-15 10:20:44.789079  46:85:00:12:35:54   \n",
       "134             5  2020-06-15 10:20:45.086023  46:85:00:12:35:54   \n",
       "\n",
       "               eth.dst          ip.src          ip.dst  ip.proto  \\\n",
       "130  40:31:3c:d3:23:d4  18.197.235.166  192.168.137.44      17.0   \n",
       "131  46:85:00:12:35:54  192.168.137.44  18.197.235.166      17.0   \n",
       "132  46:85:00:12:35:54  192.168.137.44  18.197.235.166      17.0   \n",
       "133  40:31:3c:d3:23:d4  18.197.235.166  192.168.137.44      17.0   \n",
       "134  40:31:3c:d3:23:d4  18.197.235.166  192.168.137.44      17.0   \n",
       "\n",
       "                                             data.data  data.len  udp.srcport  \\\n",
       "130  21310070000000000721ae555ee5ddda1f2eecdc1f23e5...     112.0       8053.0   \n",
       "131  21310040000000000721ae555ee5dddaab4a50bc703085...      64.0      54321.0   \n",
       "132  21310060000000000721ae555ee5ddda613b63df8adf36...      96.0      54321.0   \n",
       "133  21310040000000000721ae555ee5ddda7fd3210a46cecb...      64.0       8053.0   \n",
       "134  21310070000000000721ae555ee5dddacc9a653bde272a...     112.0       8053.0   \n",
       "\n",
       "     udp.dstport  udp.length       eth.addr.oui_resolved  \\\n",
       "130      54321.0       120.0  XIAOMI Electronics,CO.,LTD   \n",
       "131       8053.0        72.0  XIAOMI Electronics,CO.,LTD   \n",
       "132       8053.0       104.0  XIAOMI Electronics,CO.,LTD   \n",
       "133      54321.0        72.0  XIAOMI Electronics,CO.,LTD   \n",
       "134      54321.0       120.0  XIAOMI Electronics,CO.,LTD   \n",
       "\n",
       "                             label  \n",
       "130  MiLampDecreaseBrightnessInApp  \n",
       "131  MiLampDecreaseBrightnessInApp  \n",
       "132  MiLampDecreaseBrightnessInApp  \n",
       "133  MiLampDecreaseBrightnessInApp  \n",
       "134  MiLampDecreaseBrightnessInApp  "
      ]
     },
     "execution_count": 29,
     "metadata": {},
     "output_type": "execute_result"
    }
   ],
   "source": [
    "x1.head()"
   ]
  },
  {
   "cell_type": "code",
   "execution_count": 54,
   "metadata": {},
   "outputs": [],
   "source": [
    "no_interest = [\"frame.number\", \"frame.time\",\"data.data\", \"eth.addr.oui_resolved\", \"label\"]"
   ]
  },
  {
   "cell_type": "code",
   "execution_count": 55,
   "metadata": {},
   "outputs": [
    {
     "data": {
      "image/png": "[encoded data removed]",
      "text/plain": [
       "<Figure size 2160x864 with 9 Axes>"
      ]
     },
     "metadata": {
      "needs_background": "light"
     },
     "output_type": "display_data"
    },
    {
     "data": {
      "text/plain": [
       "<Figure size 432x288 with 0 Axes>"
      ]
     },
     "metadata": {},
     "output_type": "display_data"
    }
   ],
   "source": [
    "plot_stuff(x1,no_interest,3,3)"
   ]
  },
  {
   "cell_type": "code",
   "execution_count": null,
   "metadata": {},
   "outputs": [],
   "source": []
  },
  {
   "cell_type": "code",
   "execution_count": null,
   "metadata": {},
   "outputs": [],
   "source": []
  },
  {
   "cell_type": "code",
   "execution_count": 27,
   "metadata": {},
   "outputs": [
    {
     "data": {
      "text/plain": [
       "<matplotlib.axes._subplots.AxesSubplot at 0x2a03aa18780>"
      ]
     },
     "execution_count": 27,
     "metadata": {},
     "output_type": "execute_result"
    },
    {
     "data": {
      "image/png": "[encoded data removed]",
      "text/plain": [
       "<Figure size 432x288 with 1 Axes>"
      ]
     },
     "metadata": {
      "needs_background": "light"
     },
     "output_type": "display_data"
    }
   ],
   "source": []
  },
  {
   "cell_type": "code",
   "execution_count": null,
   "metadata": {},
   "outputs": [],
   "source": []
  },
  {
   "cell_type": "code",
   "execution_count": null,
   "metadata": {},
   "outputs": [],
   "source": []
  },
  {
   "cell_type": "code",
   "execution_count": 12,
   "metadata": {},
   "outputs": [
    {
     "data": {
      "text/plain": [
       "<matplotlib.axes._subplots.AxesSubplot at 0x2a03927c4e0>"
      ]
     },
     "execution_count": 12,
     "metadata": {},
     "output_type": "execute_result"
    },
    {
     "data": {
      "image/png": "[encoded data removed]",
      "text/plain": [
       "<Figure size 360x360 with 1 Axes>"
      ]
     },
     "metadata": {
      "needs_background": "light"
     },
     "output_type": "display_data"
    }
   ],
   "source": [
    "df[\"udp.srcport\"].value_counts().plot(kind=\"barh\", figsize=(5,5), logx=True)"
   ]
  },
  {
   "cell_type": "code",
   "execution_count": 13,
   "metadata": {},
   "outputs": [
    {
     "data": {
      "text/plain": [
       "<matplotlib.axes._subplots.AxesSubplot at 0x2a039563940>"
      ]
     },
     "execution_count": 13,
     "metadata": {},
     "output_type": "execute_result"
    },
    {
     "data": {
      "image/png": "[encoded data removed]",
      "text/plain": [
       "<Figure size 360x360 with 1 Axes>"
      ]
     },
     "metadata": {
      "needs_background": "light"
     },
     "output_type": "display_data"
    }
   ],
   "source": [
    "df[\"udp.dstport\"].value_counts().plot(kind=\"barh\", figsize=(5,5), logx=True)"
   ]
  },
  {
   "cell_type": "code",
   "execution_count": 14,
   "metadata": {},
   "outputs": [
    {
     "data": {
      "text/plain": [
       "<matplotlib.axes._subplots.AxesSubplot at 0x2a039677e48>"
      ]
     },
     "execution_count": 14,
     "metadata": {},
     "output_type": "execute_result"
    },
    {
     "data": {
      "image/png": "[encoded data removed]",
      "text/plain": [
       "<Figure size 432x288 with 1 Axes>"
      ]
     },
     "metadata": {
      "needs_background": "light"
     },
     "output_type": "display_data"
    }
   ],
   "source": [
    "df[\"udp.length\"].value_counts().plot(kind=\"bar\")"
   ]
  },
  {
   "cell_type": "code",
   "execution_count": 15,
   "metadata": {},
   "outputs": [
    {
     "data": {
      "text/plain": [
       "<matplotlib.axes._subplots.AxesSubplot at 0x22823a72748>"
      ]
     },
     "execution_count": 15,
     "metadata": {},
     "output_type": "execute_result"
    },
    {
     "data": {
      "image/png": "[encoded data removed]",
      "text/plain": [
       "<Figure size 432x288 with 1 Axes>"
      ]
     },
     "metadata": {
      "needs_background": "light"
     },
     "output_type": "display_data"
    }
   ],
   "source": [
    "df[\"data.len\"].value_counts().plot(kind=\"bar\")"
   ]
  },
  {
   "cell_type": "code",
   "execution_count": null,
   "metadata": {},
   "outputs": [],
   "source": []
  },
  {
   "cell_type": "code",
   "execution_count": 18,
   "metadata": {},
   "outputs": [
    {
     "data": {
      "text/plain": [
       "<matplotlib.axes._subplots.AxesSubplot at 0x22823b97e48>"
      ]
     },
     "execution_count": 18,
     "metadata": {},
     "output_type": "execute_result"
    },
    {
     "data": {
      "image/png": "[encoded data removed]",
      "text/plain": [
       "<Figure size 432x288 with 1 Axes>"
      ]
     },
     "metadata": {
      "needs_background": "light"
     },
     "output_type": "display_data"
    }
   ],
   "source": [
    "df[\"ip.proto\"].value_counts().plot(kind=\"bar\")"
   ]
  },
  {
   "cell_type": "code",
   "execution_count": null,
   "metadata": {},
   "outputs": [],
   "source": []
  },
  {
   "cell_type": "code",
   "execution_count": 79,
   "metadata": {},
   "outputs": [],
   "source": [
    "from sklearn.ensemble import ExtraTreesClassifier\n",
    "from sklearn.model_selection import train_test_split\n",
    "from sklearn.naive_bayes import ComplementNB\n",
    "from sklearn.neighbors import KNeighborsClassifier\n"
   ]
  },
  {
   "cell_type": "code",
   "execution_count": 112,
   "metadata": {},
   "outputs": [],
   "source": [
    "x = df.drop(columns=[\"frame.number\", 'eth.addr.oui_resolved', \"frame.time\", \"ip.proto\"])\n",
    "x = x.fillna(\"0\")\n",
    "#Function to encode given features\n",
    "# input df: dataframe which should be modified\n",
    "# input features: features that should be encoded\n",
    "def encode_feature(df, feature):\n",
    "  feature_enc = LabelEncoder()\n",
    "  feature_enc.fit(df[feature].to_numpy().astype(str))\n",
    "  df[feature] = feature_enc.transform(df[feature])\n",
    "\n",
    "features = [\"eth.src\", \"eth.dst\", \"ip.src\", \"ip.dst\", \"label\", \"data.data\"]\n",
    "\n",
    "for feat in features:\n",
    "    encode_feature(x,feat)\n",
    "y = x[\"label\"]\n",
    "x = x.drop(columns=[\"label\"])\n",
    "#x=x[\"data.data\"]\n",
    "x = x.reset_index(drop=True)"
   ]
  },
  {
   "cell_type": "code",
   "execution_count": 113,
   "metadata": {},
   "outputs": [
    {
     "data": {
      "image/png": "[encoded data removed]",
      "text/plain": [
       "<Figure size 432x288 with 1 Axes>"
      ]
     },
     "metadata": {
      "needs_background": "light"
     },
     "output_type": "display_data"
    }
   ],
   "source": [
    "# Show the relevance of each feature\n",
    "model = ExtraTreesClassifier()\n",
    "model.fit(x,y.astype('int').ravel())\n",
    "# visualize the importance of the features\n",
    "imp_features = pd.Series(model.feature_importances_, index=x.columns)\n",
    "imp_features.nlargest(len(x.columns.tolist())).plot(kind='barh')\n",
    "plt.show()"
   ]
  },
  {
   "cell_type": "code",
   "execution_count": 114,
   "metadata": {},
   "outputs": [],
   "source": [
    "X_train, X_test, y_train, y_test = train_test_split(x, y, test_size=0.33, random_state=42)"
   ]
  },
  {
   "cell_type": "code",
   "execution_count": 115,
   "metadata": {},
   "outputs": [
    {
     "name": "stdout",
     "output_type": "stream",
     "text": [
      "0.796875\n",
      "0.1875\n"
     ]
    }
   ],
   "source": [
    "# set up the classifier\n",
    "# white-box classifier\n",
    "model_wb = KNeighborsClassifier(n_neighbors=3).fit(X_train,y_train)\n",
    "\n",
    "prob_wb = model_wb.predict_proba(X_train)\n",
    "print(model_wb.score(X_test,y_test))\n",
    "\n",
    "# train black-box\n",
    "model_bb = ComplementNB().fit(X_train,y_train)\n",
    "prob_bb = model_bb.predict_proba(X_train)\n",
    "\n",
    "print(model_bb.score(X_test,y_test))"
   ]
  },
  {
   "cell_type": "code",
   "execution_count": null,
   "metadata": {},
   "outputs": [],
   "source": []
  },
  {
   "cell_type": "code",
   "execution_count": null,
   "metadata": {},
   "outputs": [],
   "source": []
  }
 ],
 "metadata": {
  "kernelspec": {
   "display_name": "Python 3",
   "language": "python",
   "name": "python3"
  },
  "language_info": {
   "codemirror_mode": {
    "name": "ipython",
    "version": 3
   },
   "file_extension": ".py",
   "mimetype": "text/x-python",
   "name": "python",
   "nbconvert_exporter": "python",
   "pygments_lexer": "ipython3",
   "version": "3.7.3"
  }
 },
 "nbformat": 4,
 "nbformat_minor": 4
}
