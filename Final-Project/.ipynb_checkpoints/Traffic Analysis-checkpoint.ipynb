{
 "cells": [
  {
   "cell_type": "markdown",
   "metadata": {},
   "source": [
    "### SSIoT traffic analysis"
   ]
  },
  {
   "cell_type": "code",
   "execution_count": 2,
   "metadata": {},
   "outputs": [],
   "source": [
    "import pandas as pd\n",
    "import sys\n",
    "from os import listdir\n",
    "from os.path import isfile, join\n",
    "import re\n",
    "from matplotlib import pyplot as plt"
   ]
  },
  {
   "cell_type": "code",
   "execution_count": 3,
   "metadata": {},
   "outputs": [],
   "source": [
    "path = \"C:\\\\Users\\\\Raphael\\\\github\\\\Security-Services-for-IoT\\\\Final-Project\\\\pcap\\\\processed\\\\csv-files\\\\\"\n",
    "filenames = [f for f in listdir(path) if isfile(join(path, f))]\n",
    "exclude= [\"MiLampStartUp.csv\", \"MiLampStartUp2.csv\"]"
   ]
  },
  {
   "cell_type": "code",
   "execution_count": 4,
   "metadata": {},
   "outputs": [],
   "source": [
    "sametest = []\n",
    "checked = set()\n",
    "for file in filenames:\n",
    "    if file in exclude:\n",
    "        continue\n",
    "    same = []\n",
    "    file = file.split(\".\")[0]\n",
    "    for name in filenames:\n",
    "        if file in name and file != name:\n",
    "            if name not in checked:\n",
    "                #name = name.split(\".\")[0]\n",
    "                same.append(name)\n",
    "                checked.add(name)\n",
    "    if len(same) > 0:\n",
    "        sametest.append(same)"
   ]
  },
  {
   "cell_type": "code",
   "execution_count": 5,
   "metadata": {},
   "outputs": [
    {
     "name": "stdout",
     "output_type": "stream",
     "text": [
      "MiLampAdjustBrightnessInApp.csv\n"
     ]
    }
   ],
   "source": [
    "print(sametest[0][0])"
   ]
  },
  {
   "cell_type": "code",
   "execution_count": 6,
   "metadata": {},
   "outputs": [],
   "source": [
    "df = pd.DataFrame()\n"
   ]
  },
  {
   "cell_type": "code",
   "execution_count": 7,
   "metadata": {},
   "outputs": [],
   "source": [
    "for files in sametest:\n",
    "    tm = pd.DataFrame()\n",
    "    for i in range(len(files)):\n",
    "        tm = pd.concat([tm, pd.read_csv(path + files[i], header=0)],ignore_index=False)\n",
    "    tm[\"label\"] = str(files[0].split(\".\")[0])\n",
    "    df = pd.concat([df,tm], ignore_index=False)\n",
    "df = df.reset_index(drop=True)"
   ]
  },
  {
   "cell_type": "code",
   "execution_count": 8,
   "metadata": {},
   "outputs": [],
   "source": [
    "for i in range(df.shape[0]):\n",
    "    date = str(df.at[i,\"frame.time\"]).split(\" \")\n",
    "    if len(date) == 7:\n",
    "        df.at[i,\"frame.time\"] = pd.Timestamp(str(df.at[i,\"frame.time\"]).split(\" \")[4])\n",
    "    else:\n",
    "        df.at[i,\"frame.time\"] = pd.Timestamp(str(df.at[i,\"frame.time\"]).split(\" \")[3])\n"
   ]
  },
  {
   "cell_type": "markdown",
   "metadata": {},
   "source": []
  },
  {
   "cell_type": "code",
   "execution_count": 9,
   "metadata": {},
   "outputs": [
    {
     "data": {
      "text/html": [
       "<div>\n",
       "<style scoped>\n",
       "    .dataframe tbody tr th:only-of-type {\n",
       "        vertical-align: middle;\n",
       "    }\n",
       "\n",
       "    .dataframe tbody tr th {\n",
       "        vertical-align: top;\n",
       "    }\n",
       "\n",
       "    .dataframe thead th {\n",
       "        text-align: right;\n",
       "    }\n",
       "</style>\n",
       "<table border=\"1\" class=\"dataframe\">\n",
       "  <thead>\n",
       "    <tr style=\"text-align: right;\">\n",
       "      <th></th>\n",
       "      <th>frame.number</th>\n",
       "      <th>frame.time</th>\n",
       "      <th>eth.src</th>\n",
       "      <th>eth.dst</th>\n",
       "      <th>ip.src</th>\n",
       "      <th>ip.dst</th>\n",
       "      <th>ip.proto</th>\n",
       "      <th>data.data</th>\n",
       "      <th>data.len</th>\n",
       "      <th>udp.srcport</th>\n",
       "      <th>udp.dstport</th>\n",
       "      <th>udp.length</th>\n",
       "      <th>eth.addr.oui_resolved</th>\n",
       "      <th>label</th>\n",
       "    </tr>\n",
       "  </thead>\n",
       "  <tbody>\n",
       "    <tr>\n",
       "      <th>0</th>\n",
       "      <td>1</td>\n",
       "      <td>2020-06-14 17:27:27.884190</td>\n",
       "      <td>46:85:00:12:35:54</td>\n",
       "      <td>40:31:3c:d3:23:d4</td>\n",
       "      <td>3.124.122.199</td>\n",
       "      <td>192.168.137.47</td>\n",
       "      <td>17.0</td>\n",
       "      <td>21310070000000000721ae555edbb5de8052a323ad33df...</td>\n",
       "      <td>112.0</td>\n",
       "      <td>8053.0</td>\n",
       "      <td>54321.0</td>\n",
       "      <td>120.0</td>\n",
       "      <td>XIAOMI Electronics,CO.,LTD</td>\n",
       "      <td>MiLampAdjustBrightnessInApp</td>\n",
       "    </tr>\n",
       "    <tr>\n",
       "      <th>1</th>\n",
       "      <td>2</td>\n",
       "      <td>2020-06-14 17:27:27.954667</td>\n",
       "      <td>40:31:3c:d3:23:d4</td>\n",
       "      <td>46:85:00:12:35:54</td>\n",
       "      <td>192.168.137.47</td>\n",
       "      <td>3.124.122.199</td>\n",
       "      <td>17.0</td>\n",
       "      <td>21310040000000000721ae555edbb5df7efea2fd7132c2...</td>\n",
       "      <td>64.0</td>\n",
       "      <td>54321.0</td>\n",
       "      <td>8053.0</td>\n",
       "      <td>72.0</td>\n",
       "      <td>XIAOMI Electronics,CO.,LTD</td>\n",
       "      <td>MiLampAdjustBrightnessInApp</td>\n",
       "    </tr>\n",
       "    <tr>\n",
       "      <th>2</th>\n",
       "      <td>3</td>\n",
       "      <td>2020-06-14 17:27:27.959515</td>\n",
       "      <td>40:31:3c:d3:23:d4</td>\n",
       "      <td>46:85:00:12:35:54</td>\n",
       "      <td>192.168.137.47</td>\n",
       "      <td>3.124.122.199</td>\n",
       "      <td>17.0</td>\n",
       "      <td>21310060000000000721ae555edbb5df44b21b3ee0d9d9...</td>\n",
       "      <td>96.0</td>\n",
       "      <td>54321.0</td>\n",
       "      <td>8053.0</td>\n",
       "      <td>104.0</td>\n",
       "      <td>XIAOMI Electronics,CO.,LTD</td>\n",
       "      <td>MiLampAdjustBrightnessInApp</td>\n",
       "    </tr>\n",
       "    <tr>\n",
       "      <th>3</th>\n",
       "      <td>4</td>\n",
       "      <td>2020-06-14 17:27:27.996886</td>\n",
       "      <td>46:85:00:12:35:54</td>\n",
       "      <td>40:31:3c:d3:23:d4</td>\n",
       "      <td>3.124.122.199</td>\n",
       "      <td>192.168.137.47</td>\n",
       "      <td>17.0</td>\n",
       "      <td>21310040000000000721ae555edbb5dfb22f2601dc3317...</td>\n",
       "      <td>64.0</td>\n",
       "      <td>8053.0</td>\n",
       "      <td>54321.0</td>\n",
       "      <td>72.0</td>\n",
       "      <td>XIAOMI Electronics,CO.,LTD</td>\n",
       "      <td>MiLampAdjustBrightnessInApp</td>\n",
       "    </tr>\n",
       "    <tr>\n",
       "      <th>4</th>\n",
       "      <td>5</td>\n",
       "      <td>2020-06-14 17:27:28.805023</td>\n",
       "      <td>46:85:00:12:35:54</td>\n",
       "      <td>40:31:3c:d3:23:d4</td>\n",
       "      <td>3.124.122.199</td>\n",
       "      <td>192.168.137.47</td>\n",
       "      <td>17.0</td>\n",
       "      <td>21310070000000000721ae555edbb5df57f80dc3b3d676...</td>\n",
       "      <td>112.0</td>\n",
       "      <td>8053.0</td>\n",
       "      <td>54321.0</td>\n",
       "      <td>120.0</td>\n",
       "      <td>XIAOMI Electronics,CO.,LTD</td>\n",
       "      <td>MiLampAdjustBrightnessInApp</td>\n",
       "    </tr>\n",
       "  </tbody>\n",
       "</table>\n",
       "</div>"
      ],
      "text/plain": [
       "   frame.number                  frame.time            eth.src  \\\n",
       "0             1  2020-06-14 17:27:27.884190  46:85:00:12:35:54   \n",
       "1             2  2020-06-14 17:27:27.954667  40:31:3c:d3:23:d4   \n",
       "2             3  2020-06-14 17:27:27.959515  40:31:3c:d3:23:d4   \n",
       "3             4  2020-06-14 17:27:27.996886  46:85:00:12:35:54   \n",
       "4             5  2020-06-14 17:27:28.805023  46:85:00:12:35:54   \n",
       "\n",
       "             eth.dst          ip.src          ip.dst  ip.proto  \\\n",
       "0  40:31:3c:d3:23:d4   3.124.122.199  192.168.137.47      17.0   \n",
       "1  46:85:00:12:35:54  192.168.137.47   3.124.122.199      17.0   \n",
       "2  46:85:00:12:35:54  192.168.137.47   3.124.122.199      17.0   \n",
       "3  40:31:3c:d3:23:d4   3.124.122.199  192.168.137.47      17.0   \n",
       "4  40:31:3c:d3:23:d4   3.124.122.199  192.168.137.47      17.0   \n",
       "\n",
       "                                           data.data  data.len  udp.srcport  \\\n",
       "0  21310070000000000721ae555edbb5de8052a323ad33df...     112.0       8053.0   \n",
       "1  21310040000000000721ae555edbb5df7efea2fd7132c2...      64.0      54321.0   \n",
       "2  21310060000000000721ae555edbb5df44b21b3ee0d9d9...      96.0      54321.0   \n",
       "3  21310040000000000721ae555edbb5dfb22f2601dc3317...      64.0       8053.0   \n",
       "4  21310070000000000721ae555edbb5df57f80dc3b3d676...     112.0       8053.0   \n",
       "\n",
       "   udp.dstport  udp.length       eth.addr.oui_resolved  \\\n",
       "0      54321.0       120.0  XIAOMI Electronics,CO.,LTD   \n",
       "1       8053.0        72.0  XIAOMI Electronics,CO.,LTD   \n",
       "2       8053.0       104.0  XIAOMI Electronics,CO.,LTD   \n",
       "3      54321.0        72.0  XIAOMI Electronics,CO.,LTD   \n",
       "4      54321.0       120.0  XIAOMI Electronics,CO.,LTD   \n",
       "\n",
       "                         label  \n",
       "0  MiLampAdjustBrightnessInApp  \n",
       "1  MiLampAdjustBrightnessInApp  \n",
       "2  MiLampAdjustBrightnessInApp  \n",
       "3  MiLampAdjustBrightnessInApp  \n",
       "4  MiLampAdjustBrightnessInApp  "
      ]
     },
     "execution_count": 9,
     "metadata": {},
     "output_type": "execute_result"
    }
   ],
   "source": [
    "df.head()"
   ]
  },
  {
   "cell_type": "code",
   "execution_count": 10,
   "metadata": {},
   "outputs": [
    {
     "data": {
      "text/plain": [
       "<matplotlib.axes._subplots.AxesSubplot at 0x2281f1dd978>"
      ]
     },
     "execution_count": 10,
     "metadata": {},
     "output_type": "execute_result"
    },
    {
     "data": {
      "image/png": "[encoded data removed]",
      "text/plain": [
       "<Figure size 432x288 with 1 Axes>"
      ]
     },
     "metadata": {
      "needs_background": "light"
     },
     "output_type": "display_data"
    }
   ],
   "source": [
    "df[\"ip.dst\"].value_counts().plot(kind=\"bar\")"
   ]
  },
  {
   "cell_type": "code",
   "execution_count": 11,
   "metadata": {},
   "outputs": [
    {
     "data": {
      "text/plain": [
       "<matplotlib.axes._subplots.AxesSubplot at 0x228226c7940>"
      ]
     },
     "execution_count": 11,
     "metadata": {},
     "output_type": "execute_result"
    },
    {
     "data": {
      "image/png": "[encoded data removed]",
      "text/plain": [
       "<Figure size 432x288 with 1 Axes>"
      ]
     },
     "metadata": {
      "needs_background": "light"
     },
     "output_type": "display_data"
    }
   ],
   "source": [
    "df[\"ip.src\"].value_counts().plot(kind=\"bar\")"
   ]
  },
  {
   "cell_type": "code",
   "execution_count": 12,
   "metadata": {},
   "outputs": [
    {
     "data": {
      "text/plain": [
       "<matplotlib.axes._subplots.AxesSubplot at 0x2282275b128>"
      ]
     },
     "execution_count": 12,
     "metadata": {},
     "output_type": "execute_result"
    },
    {
     "data": {
      "image/png": "[encoded data removed]",
      "text/plain": [
       "<Figure size 360x360 with 1 Axes>"
      ]
     },
     "metadata": {
      "needs_background": "light"
     },
     "output_type": "display_data"
    }
   ],
   "source": [
    "df[\"udp.srcport\"].value_counts().plot(kind=\"barh\", figsize=(5,5), logx=True)"
   ]
  },
  {
   "cell_type": "code",
   "execution_count": 13,
   "metadata": {},
   "outputs": [
    {
     "data": {
      "text/plain": [
       "<matplotlib.axes._subplots.AxesSubplot at 0x22822737fd0>"
      ]
     },
     "execution_count": 13,
     "metadata": {},
     "output_type": "execute_result"
    },
    {
     "data": {
      "image/png": "[encoded data removed]",
      "text/plain": [
       "<Figure size 360x360 with 1 Axes>"
      ]
     },
     "metadata": {
      "needs_background": "light"
     },
     "output_type": "display_data"
    }
   ],
   "source": [
    "df[\"udp.dstport\"].value_counts().plot(kind=\"barh\", figsize=(5,5), logx=True)"
   ]
  },
  {
   "cell_type": "code",
   "execution_count": 14,
   "metadata": {},
   "outputs": [
    {
     "data": {
      "text/plain": [
       "<matplotlib.axes._subplots.AxesSubplot at 0x228239ac128>"
      ]
     },
     "execution_count": 14,
     "metadata": {},
     "output_type": "execute_result"
    },
    {
     "data": {
      "image/png": "[encoded data removed]",
      "text/plain": [
       "<Figure size 432x288 with 1 Axes>"
      ]
     },
     "metadata": {
      "needs_background": "light"
     },
     "output_type": "display_data"
    }
   ],
   "source": [
    "df[\"udp.length\"].value_counts().plot(kind=\"bar\")"
   ]
  },
  {
   "cell_type": "code",
   "execution_count": 15,
   "metadata": {},
   "outputs": [
    {
     "data": {
      "text/plain": [
       "<matplotlib.axes._subplots.AxesSubplot at 0x22823a72748>"
      ]
     },
     "execution_count": 15,
     "metadata": {},
     "output_type": "execute_result"
    },
    {
     "data": {
      "image/png": "[encoded data removed]",
      "text/plain": [
       "<Figure size 432x288 with 1 Axes>"
      ]
     },
     "metadata": {
      "needs_background": "light"
     },
     "output_type": "display_data"
    }
   ],
   "source": [
    "df[\"data.len\"].value_counts().plot(kind=\"bar\")"
   ]
  },
  {
   "cell_type": "code",
   "execution_count": null,
   "metadata": {},
   "outputs": [],
   "source": []
  },
  {
   "cell_type": "code",
   "execution_count": 16,
   "metadata": {},
   "outputs": [
    {
     "data": {
      "text/plain": [
       "<matplotlib.axes._subplots.AxesSubplot at 0x22823aec748>"
      ]
     },
     "execution_count": 16,
     "metadata": {},
     "output_type": "execute_result"
    },
    {
     "data": {
      "image/png": "[encoded data removed]",
      "text/plain": [
       "<Figure size 432x288 with 1 Axes>"
      ]
     },
     "metadata": {
      "needs_background": "light"
     },
     "output_type": "display_data"
    }
   ],
   "source": [
    "df[\"ip.proto\"].value_counts().plot(kind=\"bar\")"
   ]
  },
  {
   "cell_type": "code",
   "execution_count": null,
   "metadata": {},
   "outputs": [],
   "source": []
  },
  {
   "cell_type": "code",
   "execution_count": null,
   "metadata": {},
   "outputs": [],
   "source": []
  }
 ],
 "metadata": {
  "kernelspec": {
   "display_name": "Python 3",
   "language": "python",
   "name": "python3"
  }
 },
 "nbformat": 4,
 "nbformat_minor": 2
}
